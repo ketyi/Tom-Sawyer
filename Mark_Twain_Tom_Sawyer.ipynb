{
  "nbformat": 4,
  "nbformat_minor": 0,
  "metadata": {
    "kernelspec": {
      "display_name": "Python (env_py36_tf2)",
      "language": "python",
      "name": "env_py36_tf2"
    },
    "language_info": {
      "codemirror_mode": {
        "name": "ipython",
        "version": 3
      },
      "file_extension": ".py",
      "mimetype": "text/x-python",
      "name": "python",
      "nbconvert_exporter": "python",
      "pygments_lexer": "ipython3",
      "version": "3.6.9"
    },
    "colab": {
      "name": "Solution.ipynb",
      "provenance": []
    }
  },
  "cells": [
    {
      "cell_type": "markdown",
      "metadata": {
        "id": "-1Zmu0gCsLiw"
      },
      "source": [
        "- I've immediately realised that word-based LMs or LMs without character-based modeling won't be useful for this. This is an unmasking task but the SOTA BERT is not useful at all since its tokenisation is with word piece tokens. I had the plan that at the end I'll train a BERT with character tokenisation from scratch since there is enough English dataset on the web but I was lazy in the end.\n",
        "- I wanted to start with character-based modeling and not with DL since the specific training data is not too large.\n",
        "- I wanted to start with unsmoothed maximum-likelihood character level language models\n",
        "- Somewhere at around half time I've found the source of the corrupted text. I guess the \"anything from the web\" in the task description is not meant for the usage of it https://www.gutenberg.org/files/2895/2895-h/2895-h.htm\n",
        "- I was lazy to try reverse N-gram models also\n",
        "- Furthermore, I had in the pipeline another DL models: character-based Seq2seq (encoder-decoder) models with RNN or CNN, or even a full Transformer (not just its encoder aka BERT could go)\n",
        "- At last, I had the idea to train a word2vec model with augmented corpus (with the corrupted versions of the words as well) but I've got stuck with possible handeling the OoV words..."
      ]
    },
    {
      "cell_type": "code",
      "metadata": {
        "id": "1txhfesWsLi2"
      },
      "source": [
        "# imports\n",
        "\n",
        "from collections import *\n",
        "from random import random\n",
        "from IPython.display import Image, display\n",
        "import pydot\n",
        "import pygtrie"
      ],
      "execution_count": null,
      "outputs": []
    },
    {
      "cell_type": "code",
      "metadata": {
        "id": "wc256juMsLi3"
      },
      "source": [
        "# mask function\n",
        "\n",
        "def mask(token_list, stoch=0.0):\n",
        "    masked_token_list = []\n",
        "    for i in token_list:\n",
        "        masked_i = \"\"\n",
        "        if len(i) > 1:\n",
        "            is_second_char = False\n",
        "            for c in i:\n",
        "                if is_second_char is True:\n",
        "                    x = random()\n",
        "                    if x > stoch:\n",
        "                        c = '#'\n",
        "                    is_second_char = False\n",
        "                else:\n",
        "                    is_second_char = True\n",
        "                masked_i += c\n",
        "        else:\n",
        "            masked_i = i\n",
        "        masked_token_list.append(masked_i)\n",
        "    \n",
        "    return masked_token_list"
      ],
      "execution_count": null,
      "outputs": []
    },
    {
      "cell_type": "markdown",
      "metadata": {
        "id": "qTkZqpNssLi3"
      },
      "source": [
        "Data preparation. The most important that we keep 10% held out data for testing the performance ouf our models."
      ]
    },
    {
      "cell_type": "code",
      "metadata": {
        "id": "bn2XlN7UsLi4"
      },
      "source": [
        "TRAINING_TOKENS = []\n",
        "with open('training_tokens.txt', 'r', encoding='utf-8') as f:\n",
        "    for line in f:\n",
        "        tok = line.strip()\n",
        "        TRAINING_TOKENS.append(tok)\n",
        "\n",
        "CORRUPTED_TOKENS = []\n",
        "with open('corrupted_tokens.txt', 'r', encoding='utf-8') as f:\n",
        "    for line in f:\n",
        "        tok = line.strip()\n",
        "        CORRUPTED_TOKENS.append(tok)\n",
        "\n",
        "training_text = ' ' + ' '.join(TRAINING_TOKENS).lower()\n",
        "TRAINING_TOKENS = training_text[1:].split(' ')\n",
        "corrupted_text = ' ' + ' '.join(CORRUPTED_TOKENS).lower()\n",
        "CORRUPTED_TOKENS = corrupted_text[1:].split(' ')\n",
        "\n",
        "# naive validation dataset split\n",
        "validation_percentage = 10\n",
        "amount_of_validation_tokens = len(TRAINING_TOKENS) // validation_percentage\n",
        "\n",
        "validation_tokens = TRAINING_TOKENS[:amount_of_validation_tokens]\n",
        "validation_text = ' ' + ' '.join(validation_tokens).lower()\n",
        "validation_tokens = validation_text[1:].split(' ')\n",
        "\n",
        "masked_validation_tokens = mask(validation_tokens)\n",
        "masked_validation_text = ' ' + ' '.join(masked_validation_tokens).lower()\n",
        "masked_validation_tokens = masked_validation_text[1:].split(' ')\n",
        "\n",
        "discounted_training_tokens = TRAINING_TOKENS[amount_of_validation_tokens:]\n",
        "discounted_training_text = ' ' + ' '.join(discounted_training_tokens).lower()\n",
        "discounted_training_tokens = discounted_training_text[1:].split(' ')"
      ],
      "execution_count": null,
      "outputs": []
    },
    {
      "cell_type": "markdown",
      "metadata": {
        "id": "-pMYo5rcsLi4"
      },
      "source": [
        "Validation that masking works."
      ]
    },
    {
      "cell_type": "code",
      "metadata": {
        "id": "P3790Q9asLi5",
        "outputId": "4a5d81ee-e65e-4194-c49c-07dfa1c05c35"
      },
      "source": [
        "mask(validation_tokens[:10])"
      ],
      "execution_count": null,
      "outputs": [
        {
          "output_type": "execute_result",
          "data": {
            "text/plain": [
              "['p#e#a#e',\n",
              " 'm#s#',\n",
              " 'o#',\n",
              " 't#e',\n",
              " 'a#v#n#u#e#',\n",
              " 'r#c#r#e#',\n",
              " 'i#',\n",
              " 't#i#',\n",
              " 'b#o#',\n",
              " 'r#a#l#']"
            ]
          },
          "metadata": {
            "tags": []
          },
          "execution_count": 22
        }
      ]
    },
    {
      "cell_type": "markdown",
      "metadata": {
        "id": "7-wzE1AGsLi6"
      },
      "source": [
        "So, I wanted statistical LM.\n",
        "\n",
        "## Language Model definition\n",
        "A LM consist of a finite set vocabulary of tokens $\\mathcal{V}$, and a fucntion $p(x_1,x_2,\\dots x_n)$ such that:\n",
        "\n",
        "1. $\\forall \\langle x_1 \\dots x_n \\rangle \\in \\mathcal{V}, p(x_1,x_2,\\dots x_n) \\ge 0$\n",
        "2. In addition $\\sum_{\\langle x_1 \\dots x_n \\rangle \\in \\mathcal{V}}{p(x_1,x_2,\\dots x_n)} = 1$\n",
        "\n",
        "Hence, $p(x_1,x_2,\\dots x_n)$ is a probability distribution over the sentences in $\\mathcal{V}$.\n",
        "\n",
        "In fact, there are 2 important equations and an estimation method regarding sentence/sequence modeling.\n",
        "\n",
        "## Chain rule of probability\n",
        "$$p(x_1,x_2,\\dots x_n)=p(x_1^n)=p(x_1)p(x_2|x_1)p(x_3|x_1^2) \\dots p(x_n|x_1^{n-1})=\\prod_{i=1}^{n}{p(x_i|x_1^{i-1})}$$\n",
        "\n",
        "## Markov assumption\n",
        "The probability of a token depends only on the previous $(N-1)$ tokens:\n",
        "\n",
        "$$p(x_n|x_1^{n-1}) \\approx p(x_n|x_{n-N+1}^{n-1})$$\n",
        "\n",
        "Hence, the joint probability $p(x_1^n)$ is approximated by $\\prod_{i=1}^{n}{p(x_i|x_{i-N+1}^{i-1})}$. This is called an N-gram model or (N-1) order Markov model.\n",
        "\n",
        "## Maximum Likelihood Estimation\n",
        "We get the MLE for the parameters of an N-gram model by getting counts from a corpus, and normalizing the counts so that they lie between 0 and 1.\n",
        "\n",
        "#### Log-likelihood maximization\n",
        "$$\\log{p(\\mathbf{x}_{train})}=\\sum_{i=1}^{D}{\\log{p(x_i|x_{i-N+1}^{i-1})}} \\rightarrow \\max$$\n",
        "\n",
        "In fact, estimates of parameters in the following forms are MLE:\n",
        "\n",
        "$$p(x_i|x_{i-N+1}^{i-1})=\\frac{c(x_{i-N+1}^{i})}{\\sum_{x_i}{c(x_{i-N+1}^{i})}}=\\frac{c(x_{i-N+1}^{i})}{c(x_{i-N+1}^{i-1})}$$\n",
        "\n",
        "I've found a skeleton of the solution with character-based tokenization on the web."
      ]
    },
    {
      "cell_type": "code",
      "metadata": {
        "id": "vb6soHb2sLi6"
      },
      "source": [
        "# Taken from Yoav https://nbviewer.jupyter.org/gist/yoavg/d76121dfde2618422139\n",
        "\n",
        "def train_char_lm(fname, order):\n",
        "    #data = file(fname).read()\n",
        "    data = fname\n",
        "    lm = defaultdict(Counter) # quite advanced dictionary class\n",
        "    pad = \"~\" * order\n",
        "    data = pad + data\n",
        "    \n",
        "    for i in range(len(data)-order):\n",
        "        history, char = data[i:i+order], data[i+order]\n",
        "        lm[history][char] += 1 # this is the count of the N-gram (the nominator)\n",
        "    \n",
        "    for history in list(lm):\n",
        "        chars_list = list(lm[history])\n",
        "        if (len(chars_list) == 1) and (chars_list[0] == ' '):\n",
        "            #print(\"warning: order \"+str(order)+\" lm has a prefix of: \"+str(history)+\" followed by the space char with 1.0 prob\")\n",
        "            pass\n",
        "    \n",
        "    def normalize(counter):\n",
        "        s = float(sum(counter.values()))\n",
        "        return [(c, cnt/s) for c, cnt in counter.items()] # the denominator, the marginalizing equation\n",
        "    \n",
        "    outlm = {hist : normalize(chars) for hist, chars in lm.items()}\n",
        "    return outlm"
      ],
      "execution_count": null,
      "outputs": []
    },
    {
      "cell_type": "markdown",
      "metadata": {
        "id": "88Gb1yDpsLi7"
      },
      "source": [
        "Let's try a trigram model first."
      ]
    },
    {
      "cell_type": "code",
      "metadata": {
        "id": "dlaHfHwGsLi7"
      },
      "source": [
        "lm = train_char_lm(training_text, order=2)"
      ],
      "execution_count": null,
      "outputs": []
    },
    {
      "cell_type": "markdown",
      "metadata": {
        "id": "Xex8KGWjsLi7"
      },
      "source": [
        "Let's check some conditional probabilites. Yoav added a start token '~' into the dataset to have a state where free text generation could start according to data. (actually it's nothing usesful for us)"
      ]
    },
    {
      "cell_type": "code",
      "metadata": {
        "id": "8C8iLIKMsLi8",
        "outputId": "58d33d6a-2ead-41be-80c3-5dc02aee4ea0"
      },
      "source": [
        "lm['~~'], lm['he']"
      ],
      "execution_count": null,
      "outputs": [
        {
          "output_type": "execute_result",
          "data": {
            "text/plain": [
              "([(' ', 1.0)],\n",
              " [(' ', 0.6017507767234864),\n",
              "  ('r', 0.1476194474766983),\n",
              "  ('d', 0.01765471492148795),\n",
              "  ('y', 0.04889159459232513),\n",
              "  ('m', 0.028948694264841715),\n",
              "  ('n', 0.061361155428667394),\n",
              "  ('a', 0.02997732807120665),\n",
              "  ('s', 0.02004786296078596),\n",
              "  (\"'\", 0.0027500209925266604),\n",
              "  ('l', 0.009992442690402217),\n",
              "  ('c', 0.0005458056931732303),\n",
              "  ('e', 0.0054580569317323035),\n",
              "  ('i', 0.019921907800822907),\n",
              "  ('w', 0.00037786547988915946),\n",
              "  ('t', 0.0026030733059030984),\n",
              "  ('o', 0.0012385590729700226),\n",
              "  ('v', 0.00010496263330254429),\n",
              "  ('p', 8.397010664203544e-05),\n",
              "  ('b', 0.00016794021328407087),\n",
              "  ('q', 4.198505332101772e-05),\n",
              "  ('z', 0.0004618355865311949)])"
            ]
          },
          "metadata": {
            "tags": []
          },
          "execution_count": 7
        }
      ]
    },
    {
      "cell_type": "markdown",
      "metadata": {
        "id": "bekGQB41sLi8"
      },
      "source": [
        "It's very interesting that in many cases the most probable n-gram yields the space character. Our n-grams correctly capture the word endings (ant their probabilities in data)."
      ]
    },
    {
      "cell_type": "code",
      "metadata": {
        "id": "LPHa48UNsLi8",
        "outputId": "8728b82f-4228-4877-80cb-3e1dacbcd006"
      },
      "source": [
        "lm = train_char_lm(training_text, order=1)\n",
        "sorted(lm['n'], key=lambda x: x[-1], reverse=True) # very interesting"
      ],
      "execution_count": null,
      "outputs": [
        {
          "output_type": "execute_result",
          "data": {
            "text/plain": [
              "[(' ', 0.25182895753530504),\n",
              " ('d', 0.19899057984118895),\n",
              " ('g', 0.11954395252108439),\n",
              " ('t', 0.08558699261840959),\n",
              " ('e', 0.08414026665789863),\n",
              " ('o', 0.07075805152317227),\n",
              " ('c', 0.03281437519522581),\n",
              " ('s', 0.03209101221497033),\n",
              " ('i', 0.02640274877932497),\n",
              " (\"'\", 0.01874989724957667),\n",
              " ('a', 0.017895013727456558),\n",
              " ('y', 0.015470103736827395),\n",
              " ('k', 0.009346178506255446),\n",
              " ('n', 0.007973432850543345),\n",
              " ('l', 0.007669291597481382),\n",
              " ('u', 0.0055320827921811035),\n",
              " ('f', 0.004381278050865569),\n",
              " ('v', 0.0033455537836815886),\n",
              " ('j', 0.0015782465023755899),\n",
              " ('q', 0.001117924605849376),\n",
              " ('r', 0.0010686044026501388),\n",
              " ('m', 0.0008959836914528088),\n",
              " ('h', 0.0008137833527874135),\n",
              " ('p', 0.00048498199812583225),\n",
              " ('w', 0.00046854193039275324),\n",
              " ('b', 0.0004603218965262137),\n",
              " ('z', 0.00031236128692850216),\n",
              " ('x', 0.000279481151462344)]"
            ]
          },
          "metadata": {
            "tags": []
          },
          "execution_count": 8
        }
      ]
    },
    {
      "cell_type": "markdown",
      "metadata": {
        "id": "qbghDldDsLi8"
      },
      "source": [
        "Just looking at the same fenomenon. For us it is going to be important since for our masked-value predictions we do not allow to predict a space character."
      ]
    },
    {
      "cell_type": "code",
      "metadata": {
        "id": "TJYe1lW1sLi9",
        "outputId": "7fb3a1d0-fb70-484d-d4cf-744cf3c84789"
      },
      "source": [
        "lm = train_char_lm(training_text, order=2)\n",
        "sorted(lm['en'], key=lambda x: x[-1], reverse=True) # inheriting..."
      ],
      "execution_count": null,
      "outputs": [
        {
          "output_type": "execute_result",
          "data": {
            "text/plain": [
              "[(' ', 0.38686337685828953),\n",
              " ('t', 0.2949522356000226),\n",
              " ('c', 0.07331411452150811),\n",
              " ('d', 0.06647447854841444),\n",
              " ('e', 0.048838392402916736),\n",
              " ('s', 0.032106720931547116),\n",
              " ('g', 0.029110847323497824),\n",
              " ('i', 0.01577073088010853),\n",
              " ('o', 0.015544627211576508),\n",
              " ('r', 0.005087332541970494),\n",
              " (\"'\", 0.00463512520490645),\n",
              " ('l', 0.00463512520490645),\n",
              " ('a', 0.004295969702108417),\n",
              " ('n', 0.004182917867842406),\n",
              " ('j', 0.003843762365044373),\n",
              " ('u', 0.003843762365044373),\n",
              " ('v', 0.0031089254423153014),\n",
              " ('z', 0.001300096094059126),\n",
              " ('y', 0.0009044146741280877),\n",
              " ('p', 0.0003391555027980329),\n",
              " ('h', 0.00022610366853202194),\n",
              " ('w', 0.00016957775139901646),\n",
              " ('m', 0.00016957775139901646),\n",
              " ('b', 0.00016957775139901646),\n",
              " ('f', 0.00011305183426601097)]"
            ]
          },
          "metadata": {
            "tags": []
          },
          "execution_count": 9
        }
      ]
    },
    {
      "cell_type": "markdown",
      "metadata": {
        "id": "mmlYdyKUsLi9"
      },
      "source": [
        "Yoav's sampling extended with my guarantee just to be sure the highest possible probability gets selected."
      ]
    },
    {
      "cell_type": "code",
      "metadata": {
        "id": "4h0O6xL9sLi9"
      },
      "source": [
        "def generate_letter(lm, history, order, stoch=True):\n",
        "    history = history[-order:]\n",
        "    dist = lm[history]\n",
        "    dist = sorted(dist, key=lambda x: x[-1], reverse=True) # to be sure it's correct\n",
        "\n",
        "    if stoch is False:\n",
        "        for c, v in dist: \n",
        "            if c != ' ': return c\n",
        "\n",
        "    x = random()\n",
        "    for c, v in dist:\n",
        "        x = x - v\n",
        "        if x <= 0: return c # interesting sampling but correct"
      ],
      "execution_count": null,
      "outputs": []
    },
    {
      "cell_type": "markdown",
      "metadata": {
        "id": "9AZe40P0sLi9"
      },
      "source": [
        "Yoav's free text generator. Starting from the state '~'."
      ]
    },
    {
      "cell_type": "code",
      "metadata": {
        "id": "NPpn1TBasLi9"
      },
      "source": [
        "def generate_text(lm, order, nletters):\n",
        "    history = \"~\" * order\n",
        "    out = []\n",
        "    for i in range(nletters):\n",
        "        c = generate_letter(lm, history, order)\n",
        "        history = history[-order:] + c\n",
        "        out.append(c)\n",
        "    return \"\".join(out)"
      ],
      "execution_count": null,
      "outputs": []
    },
    {
      "cell_type": "markdown",
      "metadata": {
        "id": "JdTdrCnlsLi-"
      },
      "source": [
        "Validation of the free text generator. LM is built on the whole training datased. Generation start at the state '~' then sampling follows the n-gram probability distributions."
      ]
    },
    {
      "cell_type": "code",
      "metadata": {
        "id": "_fQ2AeVSsLi-",
        "outputId": "1f0bf834-0e10-46fb-c69d-726b181a5013"
      },
      "source": [
        "order = 7 # seems to be needed at this point\n",
        "\n",
        "lm = train_char_lm(training_text, order=order)\n",
        "print (generate_text(lm=lm, order=order, nletters=40))"
      ],
      "execution_count": null,
      "outputs": [
        {
          "output_type": "stream",
          "text": [
            " preface it is hardly sensible rest in m\n"
          ],
          "name": "stdout"
        }
      ]
    },
    {
      "cell_type": "markdown",
      "metadata": {
        "id": "sj8lVDxXsLi-"
      },
      "source": [
        "Fun and it validates the power of the LM: every second (and just the second!) character of a word is #"
      ]
    },
    {
      "cell_type": "code",
      "metadata": {
        "id": "lAnrMMvksLi-",
        "outputId": "5ab62575-072c-4b15-d4af-3e40c044fa32"
      },
      "source": [
        "order = 7\n",
        "\n",
        "lm = train_char_lm(corrupted_text, order=order)\n",
        "print (generate_text(lm=lm, order=order, nletters=40))"
      ],
      "execution_count": null,
      "outputs": [
        {
          "output_type": "stream",
          "text": [
            " t#a# n#t# b#o# a#d t#e c#n#u#e# w#i#h h\n"
          ],
          "name": "stdout"
        }
      ]
    },
    {
      "cell_type": "markdown",
      "metadata": {
        "id": "XHohw7h_sLi-"
      },
      "source": [
        "Specific text generator version for unmasking our corrupt data."
      ]
    },
    {
      "cell_type": "code",
      "metadata": {
        "id": "g04pWJMfsLi_"
      },
      "source": [
        "def unmask_text(lm, order, masked_text, stoch=True):\n",
        "    history = \"\"\n",
        "    out = []\n",
        "    for i in masked_text:\n",
        "        if i == '#':\n",
        "            to_sample = True\n",
        "            while(to_sample is True):\n",
        "                c = generate_letter(lm, history, order, stoch=stoch)\n",
        "                if c != ' ': # we don't want ' ' in a word\n",
        "                    history = history[-order:] + c\n",
        "                    out.append(c)\n",
        "                    to_sample = False\n",
        "        else:\n",
        "            history = history[-order:] + i\n",
        "            out.append(i)\n",
        "    return \"\".join(out)"
      ],
      "execution_count": null,
      "outputs": []
    },
    {
      "cell_type": "markdown",
      "metadata": {
        "id": "CaIgiZhgsLi_"
      },
      "source": [
        "A bigram LM seems to be very week. Furthermore, I've realised at this point that I shouldn't be sampling but pick the most probable category."
      ]
    },
    {
      "cell_type": "code",
      "metadata": {
        "id": "LPOUk1cmsLi_",
        "outputId": "93f0a2cc-962c-44a8-f340-b3ffc310c3ee"
      },
      "source": [
        "order = 1\n",
        "\n",
        "lm = train_char_lm(training_text, order=order)\n",
        "print(corrupted_text[:40])\n",
        "for i in range(10):\n",
        "    print (unmask_text(lm=lm, order=order, masked_text=corrupted_text[:40], stoch=True))"
      ],
      "execution_count": null,
      "outputs": [
        {
          "output_type": "stream",
          "text": [
            " t#a# n#t# r#c#l#s a# e#p#r#e#c# t#e p#s\n",
            " tsab ndth recllas at enpursesch tce pes\n",
            " tian neti rscrlys ar eepersenck tie pes\n",
            " tsan ngth rocolis an evprrsewct tre pas\n",
            " toay ndte rdcalis as elpireeach the pes\n",
            " tial ntth rtcolls ad enpornerch the prs\n",
            " tiar ndto ractlds an enprrsevcu tae pes\n",
            " tyar ndth rechlgs as evprreerck the pls\n",
            " tral noth racklas ai ewplrsetch the pis\n",
            " tias nito rscrlls ag empereesca tye pls\n",
            " tuan ntth recelis an evpareerci the pes\n"
          ],
          "name": "stdout"
        }
      ]
    },
    {
      "cell_type": "markdown",
      "metadata": {
        "id": "dfKpAEmcsLi_"
      },
      "source": [
        "Picking the most probable category seem to yield some improvement."
      ]
    },
    {
      "cell_type": "code",
      "metadata": {
        "id": "SsW-Jl2WsLjA",
        "outputId": "b054fd24-62c7-415c-aa66-5e739d4497c7"
      },
      "source": [
        "order = 1\n",
        "\n",
        "lm = train_char_lm(training_text, order=order)\n",
        "print(corrupted_text[:40])\n",
        "print (unmask_text(lm=lm, order=order, masked_text=corrupted_text[:40], stoch=False))"
      ],
      "execution_count": null,
      "outputs": [
        {
          "output_type": "stream",
          "text": [
            " t#a# n#t# r#c#l#s a# e#p#r#e#c# t#e p#s\n",
            " than ndth recoles an erpereerco the pes\n"
          ],
          "name": "stdout"
        }
      ]
    },
    {
      "cell_type": "markdown",
      "metadata": {
        "id": "bxowhPSBsLjA"
      },
      "source": [
        "I've implemented a mix of N-gram LMs. At each prediction I'm trying with the highest order model as possible, if that doesn't model the given prefix (due that it's been unseen in the training data) then I've implemented a (so called) stupid back-off to a lower order N-gram. In theory it could go down to unigrams (in case of a very small dataset) but in our case bigrams cover all the possible prefixes."
      ]
    },
    {
      "cell_type": "code",
      "metadata": {
        "id": "kGr0dXwhsLjA"
      },
      "source": [
        "def generate_letter_with_mixed_models(lm, history, order, stoch=True, indiv=False):\n",
        "        history = history[-order:]\n",
        "        \n",
        "        if (indiv is True) and (len(history) > 2): # cut prefix before a space characer i.e., treat words individually\n",
        "            for i in range(len(history)-2, 0, -1): # it is valid since the last character cannot be a space one, and the first is ok to be that\n",
        "                if history[i] == ' ':\n",
        "                    history = history[i:] # keep the space character as well (it is defined then as a standalone word)\n",
        "                    order = len(history)\n",
        "                    break\n",
        "        \n",
        "        for i in range(order, 0, -1):\n",
        "            temp_lm = lm[str(i)]\n",
        "            temp_history = history[-i:]\n",
        "            if temp_history in temp_lm:\n",
        "                dist = temp_lm[temp_history]\n",
        "                if (len(dist) == 1) and (dist[0][0] == ' '):\n",
        "                    #print(\"warning: order \"+str(i)+\" lm has a prefix of: \"+str(temp_history)+\" followed by the space char with 1.0 prob -> continue\")\n",
        "                    continue\n",
        "                dist = sorted(dist, key=lambda x: x[-1], reverse=True) # to be sure\n",
        "\n",
        "                if stoch is False:\n",
        "                    for c, v in dist: \n",
        "                        if c != ' ': return (c, i)\n",
        "\n",
        "                x = random()\n",
        "                for c, v in dist:\n",
        "                    x = x - v\n",
        "                    if x <= 0: return (c, i) # interesting sampling but correct\n",
        "        \n",
        "        # Oops, we've ran out of options\n",
        "        print(\"oops\")\n",
        "        return (None, None)"
      ],
      "execution_count": null,
      "outputs": []
    },
    {
      "cell_type": "code",
      "metadata": {
        "id": "EnK6odMUsLjA"
      },
      "source": [
        "def unmask_text_with_mixed_models(lm, order, masked_text, stoch=True, indiv=False):\n",
        "    history = \"\"\n",
        "    out = []\n",
        "    out_model_order = []\n",
        "    for i in masked_text:\n",
        "        if i == '#':\n",
        "            to_sample = True\n",
        "            while(to_sample is True):\n",
        "                c, model_order = generate_letter_with_mixed_models(lm=lm, history=history, order=order, stoch=stoch, indiv=indiv)\n",
        "                if c != ' ': # we don't want ' ' in a word\n",
        "                    history = history[-order:] + c\n",
        "                    out.append(c)\n",
        "                    out_model_order.append(str(model_order))\n",
        "                    to_sample = False\n",
        "        else:\n",
        "            history = history[-order:] + i\n",
        "            out.append(i)\n",
        "            out_model_order.append(i)\n",
        "    return (\"\".join(out), \"\".join(out_model_order))"
      ],
      "execution_count": null,
      "outputs": []
    },
    {
      "cell_type": "markdown",
      "metadata": {
        "id": "_Fzx4y0xsLjA"
      },
      "source": [
        "Let's have a mixed model up to a 9 order LM."
      ]
    },
    {
      "cell_type": "code",
      "metadata": {
        "id": "GXU65nMusLjA"
      },
      "source": [
        "order = 9\n",
        "\n",
        "language_model = {}\n",
        "for i in range(1, order+1): # based on available data we don't have to deal with unigrams\n",
        "    language_model[str(i)] = train_char_lm(training_text, order=i)"
      ],
      "execution_count": null,
      "outputs": []
    },
    {
      "cell_type": "markdown",
      "metadata": {
        "id": "HQQTCWVwsLjB"
      },
      "source": [
        "I've played with several orders but we're just not good enough for the corrupted text. "
      ]
    },
    {
      "cell_type": "code",
      "metadata": {
        "id": "exlsGRDKsLjB",
        "outputId": "5d111560-9758-4af7-9678-3fc43e56583b"
      },
      "source": [
        "length = 400\n",
        "\n",
        "prediction, model_order = unmask_text_with_mixed_models(lm=language_model, order=order, masked_text=corrupted_text[:length], stoch=False, indiv=False)\n",
        "\n",
        "print(corrupted_text[:length])\n",
        "print(model_order)\n",
        "print(prediction)"
      ],
      "execution_count": null,
      "outputs": [
        {
          "output_type": "stream",
          "text": [
            " t#a# n#t# r#c#l#s a# e#p#r#e#c# t#e p#s#e#g#r# w#r# s#n# f#r t# c#m# u# i# t#e b#w a#d s#e a f#n# s#g#t i# w#s v#r# d#r# o#e c#u#d n#t f#l#o# w#t# t#e e#e t#e s#r#a#e o# t#e s#a m#r# t#a# f#f#y y#r#s i# a#y d#r#c#i#n i# d#m#e# a#a# a#d b#c#m# l#s# t# s#g#t a# a#o#t t#a# d#s#a#c# f#o# u# b#t i# y#u p#t#e#t#y g#z#d i#t# t#e d#r#n#s# a l#t#l# w#i#e t#e#e w#s a s#r# r#w#r# f#r y#u p#e#e#t#y a q#a#t#r\n",
            " t2a4 n7t9 r5c6l3s a5 e7p3r5e5c4 t4e p8s2e4g1r3 w6r8 s9n9 f8r t9 c4m6 u4 i5 t8e b9w a4d s8e a f6n4 s5g2t i5 w8s v3r5 d8r8 o5e c4u5d n4t f7l5o4 w7t9 t9e e9e t3e s7r9a2e o5 t8e s9a m3r5 t3a4 f7f2y y4r4s i6 a7y d9r9c9i9n i9 d7m2e3 a6a4 a6d b8c8m9 l9s5 t8 s4g2t a5 a8o5t t8a6 d8s9a6c5 f5o5 u7 b6t i6 y6u p9t4e5t5y g4z2d i5t3 t3e d7r8n2s4 a l7t9l9 w9i9e t9e9e w5s a s5r7 r4w5r7 f6r y7u p3e5e2t4y a q5a7t9r\n",
            " that noth rockles an enporterco the prstepgers were sent for th comp up in the bew and ste a fond stgot it whs very dire ofe churd not fillow with the exe the straace of the sta marv that foffy yorks in any direction in drmeet anal and became lost th soget an adopt that discarce foot up bet it you puttertoy gozed ittl the derrnest a little while thene whs a stra reward for yeu pleaesthy a quarter\n"
          ],
          "name": "stdout"
        }
      ]
    },
    {
      "cell_type": "markdown",
      "metadata": {
        "id": "MWrVxY0wsLjB"
      },
      "source": [
        "Let's quantify how good we're with a score function which yields us the prediction accuracy (correct/total predictions)."
      ]
    },
    {
      "cell_type": "code",
      "metadata": {
        "id": "hewdjsyOsLjB"
      },
      "source": [
        "# score function\n",
        "\n",
        "def score(ground_through_token_list, predicted_token_list, character_based=True):\n",
        "    token_index = 0\n",
        "    accurate_prediction = 0\n",
        "    total_prediction = 0\n",
        "    \n",
        "    for token in predicted_token_list:\n",
        "        if len(token) > 1:\n",
        "            if character_based is True:\n",
        "                character_index = 0\n",
        "                for character in token:\n",
        "                    if character_index % 2 == 1:\n",
        "                        if character == ground_through_token_list[token_index][character_index]:\n",
        "                            accurate_prediction +=1\n",
        "                        total_prediction +=1\n",
        "                    character_index += 1\n",
        "            else:\n",
        "                if token == ground_through_token_list[token_index]:\n",
        "                    accurate_prediction +=1\n",
        "                total_prediction +=1\n",
        "        token_index += 1\n",
        "    \n",
        "    return accurate_prediction/total_prediction"
      ],
      "execution_count": null,
      "outputs": []
    },
    {
      "cell_type": "markdown",
      "metadata": {
        "id": "xLryO3JDsLjB"
      },
      "source": [
        "Score function validation"
      ]
    },
    {
      "cell_type": "code",
      "metadata": {
        "id": "fPakbgwlsLjB",
        "outputId": "a492f95a-35bc-413e-8347-dfe0097a3bb5"
      },
      "source": [
        "score(validation_tokens, mask(validation_tokens, stoch=0.33), character_based=True)"
      ],
      "execution_count": null,
      "outputs": [
        {
          "output_type": "execute_result",
          "data": {
            "text/plain": [
              "0.32961783439490444"
            ]
          },
          "metadata": {
            "tags": []
          },
          "execution_count": 24
        }
      ]
    },
    {
      "cell_type": "markdown",
      "metadata": {
        "id": "jafkOe8msLjC"
      },
      "source": [
        "A mixture up to order 5 LM seems to perform the best on the validation dataset (build on the training text)."
      ]
    },
    {
      "cell_type": "code",
      "metadata": {
        "id": "SzirocbesLjC",
        "outputId": "f3b9adff-745f-4c3d-8567-3a1266203d8d"
      },
      "source": [
        "order = 5\n",
        "language_model = {}\n",
        "for i in range(1, order+1): # based on available data we don't have to deal with unigrams\n",
        "    language_model[str(i)] = train_char_lm(discounted_training_text, order=i)\n",
        "\n",
        "prediction, model_order = unmask_text_with_mixed_models(lm=language_model, order=order, masked_text=masked_validation_text, stoch=False, indiv=False)\n",
        "prediction_tokens = prediction[1:].split(' ')\n",
        "\n",
        "length = 50\n",
        "print(validation_text[:length])\n",
        "print(model_order[:length])\n",
        "print(prediction[:length])\n",
        "\n",
        "score(validation_tokens, prediction_tokens, character_based=True), score(validation_tokens, prediction_tokens, character_based=False)"
      ],
      "execution_count": null,
      "outputs": [
        {
          "output_type": "stream",
          "text": [
            " preface most of the adventures recorded in this b\n",
            " p2e4a3e m5s5 o5 t5e a5v2n3u4e3 r4c5r5e5 i5 t5i5 b\n",
            " presare mast of the asvinguiet recorded in this b\n"
          ],
          "name": "stdout"
        },
        {
          "output_type": "execute_result",
          "data": {
            "text/plain": [
              "(0.365077878285072, 0.34295724222585927)"
            ]
          },
          "metadata": {
            "tags": []
          },
          "execution_count": 25
        }
      ]
    },
    {
      "cell_type": "markdown",
      "metadata": {
        "id": "oWZfYc18sLjC"
      },
      "source": [
        "It (37% accuracy) is an order of magnitude better than the random guess (~3%) but that's the best.\n",
        "I had the feeling that there is more info due to the structure of the (corrupted) data, so I wanted to try a bit more algorithmic approach. I wanted to build a dictionary on the training data indexed by the odd characters (which are never masked). I felt it's possible since the is a finite number of combination belonging to each index and due to the fact that the data is an NL text -> there are even less combinations. Furthermore NL words are mostly suffixes of each other. I just had to find a data structure to implement efficiently this dictionary. That is a suffix trie. So, I've taken the training text, and masked it. I stored the masked words in the trie and the value corresponding the keys is another dictionary of all the possible reincarnations of that masked word appearing in the training text (with their counts to support the decision about their probabilities according the text). So extremely easy.\n",
        "\n",
        "First, start with a visualisation of this trie. I've taken the code form the Internet."
      ]
    },
    {
      "cell_type": "code",
      "metadata": {
        "id": "A2BGOdKcsLjC",
        "outputId": "214c4b2b-0565-4f9e-caf5-a372e914eef6"
      },
      "source": [
        "# Taken from https://github.com/ahmednooor/trie_graph\n",
        "\n",
        "def view_pydot(pdot):\n",
        "    plt = Image(pdot.create_png(), width = 600, height = 300)\n",
        "    display(plt)\n",
        "\n",
        "# function to return a new dict template\n",
        "def struct():\n",
        "    struct = {\n",
        "        'iw': 'False'\n",
        "    }\n",
        "    return struct\n",
        "\n",
        "file_text = 't#\\nt#a#\\nt#a#\\nt#e#\\nt#e#r\\nt#e\\nt#\\nt#m\\ns#w\\ns#w#e#\\ns#e\\ns#a\\ns#d\\n'\n",
        "\n",
        "# trie making stuff happening (hard to explain)\n",
        "tmp_s = struct()\n",
        "root = tmp_s\n",
        "for c in file_text:\n",
        "    if c != '\\n':\n",
        "        if c not in tmp_s:\n",
        "            tmp_s[c] = struct()\n",
        "        tmp_s = tmp_s[c]\n",
        "    elif c == '\\n':\n",
        "        tmp_s['iw'] = 'True'\n",
        "        tmp_s = root\n",
        "        cur_word = []\n",
        "\n",
        "# converting and saving the trie to dot language decision tree graph using pydot\n",
        "# // code taken and modified from stackoverflow (https://stackoverflow.com/questions/13688410/dictionary-object-to-decision-tree-in-pydot)\n",
        "rt = {'root': root}\n",
        "counter = 0\n",
        "def draw(parent_name, child_name):\n",
        "    global counter\n",
        "    counter += 1\n",
        "    p_n = parent_name\n",
        "    c_n = child_name\n",
        "    graph.add_node(pydot.Node(p_n, label=parent_name.split('_')[0]))\n",
        "    graph.add_node(pydot.Node(c_n, label=child_name.split('_')[0]))\n",
        "    edge = pydot.Edge(p_n, c_n)\n",
        "    graph.add_edge(edge)\n",
        "\n",
        "def visit(node, parent=None):\n",
        "    global counter\n",
        "    for k,v in node.items():\n",
        "        if isinstance(v, dict):\n",
        "            # We start with the root node whose parent is None\n",
        "            # we don't want to graph the None node\n",
        "            k = k + '_' + str(counter)\n",
        "            if parent:\n",
        "                draw(parent, k)\n",
        "            visit(v, k)\n",
        "        else:\n",
        "            # drawing the label using a distinct name\n",
        "            v = v + '_' + str(counter)\n",
        "            draw(parent, v)\n",
        "\n",
        "graph = pydot.Dot(graph_type='digraph')\n",
        "visit(rt)\n",
        "view_pydot(graph)"
      ],
      "execution_count": null,
      "outputs": [
        {
          "output_type": "display_data",
          "data": {
            "image/png": "[encoded data removed]",
            "text/plain": [
              "<IPython.core.display.Image object>"
            ]
          },
          "metadata": {
            "tags": [],
            "image/png": {
              "height": 300,
              "width": 600
            }
          }
        }
      ]
    },
    {
      "cell_type": "markdown",
      "metadata": {
        "id": "PQcPfpHlsLjD"
      },
      "source": [
        "Building the trie is so easy."
      ]
    },
    {
      "cell_type": "code",
      "metadata": {
        "id": "lcxwH5zUsLjD"
      },
      "source": [
        "def build_trie(token_list):\n",
        "    t = pygtrie.CharTrie()\n",
        "    \n",
        "    for i in token_list:\n",
        "        masked_i = \"\"\n",
        "        if len(i) > 1:\n",
        "            is_second_char = False\n",
        "            for c in i:\n",
        "                if is_second_char is True:\n",
        "                    c = '#'\n",
        "                    is_second_char = False\n",
        "                else:\n",
        "                    is_second_char = True\n",
        "                masked_i += c\n",
        "        else:\n",
        "            masked_i = i\n",
        "\n",
        "        if masked_i in t:\n",
        "            if i in t[masked_i]:\n",
        "                t[masked_i][i] += 1\n",
        "            else:\n",
        "                t[masked_i][i] = 1    \n",
        "        else:\n",
        "            t[masked_i] = {i:1}\n",
        "    \n",
        "    return t"
      ],
      "execution_count": null,
      "outputs": []
    },
    {
      "cell_type": "code",
      "metadata": {
        "id": "B4nnUHbNsLjD"
      },
      "source": [
        "t = build_trie(token_list=discounted_training_tokens)"
      ],
      "execution_count": null,
      "outputs": []
    },
    {
      "cell_type": "markdown",
      "metadata": {
        "id": "TLUbFVfLsLjD"
      },
      "source": [
        "So, these are all the words (with their counts) which are mapped to that masked word based on the training text."
      ]
    },
    {
      "cell_type": "code",
      "metadata": {
        "id": "B30svQp_sLjE",
        "outputId": "4c080864-f2ac-473d-8800-29fc6ef3e4ab"
      },
      "source": [
        "t['t#a#']"
      ],
      "execution_count": null,
      "outputs": [
        {
          "output_type": "execute_result",
          "data": {
            "text/plain": [
              "{'that': 5552,\n",
              " 'than': 482,\n",
              " 'tear': 15,\n",
              " 'twas': 4,\n",
              " 'trap': 6,\n",
              " 'team': 3,\n",
              " 'thar': 3,\n",
              " 'trav': 1}"
            ]
          },
          "metadata": {
            "tags": []
          },
          "execution_count": 32
        }
      ]
    },
    {
      "cell_type": "markdown",
      "metadata": {
        "id": "240PdF3esLjE"
      },
      "source": [
        "This is the way how we're going to use the trie to unmask a corrupted text."
      ]
    },
    {
      "cell_type": "code",
      "metadata": {
        "id": "oqVvXnoPsLjE",
        "outputId": "e5fbb679-ff58-46f9-9f58-d8fc07c436ef"
      },
      "source": [
        "t.longest_prefix('t#a#o#s'), t.longest_prefix('t#1233'), t.longest_prefix('z#p#y#')"
      ],
      "execution_count": null,
      "outputs": [
        {
          "output_type": "execute_result",
          "data": {
            "text/plain": [
              "(('t#a#o#': {'teapot': 2}),\n",
              " ('t#': {'to': 10168, 'td': 2, 'tf': 1, 'te': 1, 'th': 2}),\n",
              " ('z#p#y#': {'zephyr': 1}))"
            ]
          },
          "metadata": {
            "tags": []
          },
          "execution_count": 48
        }
      ]
    },
    {
      "cell_type": "markdown",
      "metadata": {
        "id": "d_cJ2VXNsLjE"
      },
      "source": [
        "Let's try it on the masked validation text. It contains only 2 out of vocabulary words (not even a prefix of them is present in the trie)."
      ]
    },
    {
      "cell_type": "code",
      "metadata": {
        "id": "SpEWErV-sLjF",
        "outputId": "8d165902-8e3f-4488-b533-bee7a39b3330"
      },
      "source": [
        "prediction_tokens = []\n",
        "for i in masked_validation_tokens:\n",
        "    if t.longest_prefix(i).key is not None:\n",
        "        prediction_tokens.append(list({k: v for k, v in sorted(t.longest_prefix(i).value.items(), key=lambda item: item[1], reverse=True)})[0])\n",
        "    else:\n",
        "        print(\"OOV: \"+i)\n",
        "        prediction_tokens.append(i)"
      ],
      "execution_count": null,
      "outputs": [
        {
          "output_type": "stream",
          "text": [
            "OOV: z#p#y#\n",
            "OOV: z#b#a#\n"
          ],
          "name": "stdout"
        }
      ]
    },
    {
      "cell_type": "markdown",
      "metadata": {
        "id": "tyhYI2_qsLjG"
      },
      "source": [
        "This is how good the predicted words look like"
      ]
    },
    {
      "cell_type": "code",
      "metadata": {
        "id": "4IfoZ5kmsLjG",
        "outputId": "686120dd-736a-4c6e-c07d-134f9d55e079"
      },
      "source": [
        "prediction_tokens[:10]"
      ],
      "execution_count": null,
      "outputs": [
        {
          "output_type": "execute_result",
          "data": {
            "text/plain": [
              "['prepare',\n",
              " 'most',\n",
              " 'of',\n",
              " 'the',\n",
              " 'adventures',\n",
              " 'recorded',\n",
              " 'it',\n",
              " 'this',\n",
              " 'book',\n",
              " 'really']"
            ]
          },
          "metadata": {
            "tags": []
          },
          "execution_count": 35
        }
      ]
    },
    {
      "cell_type": "markdown",
      "metadata": {
        "id": "YvkY_YS6sLjG"
      },
      "source": [
        "The unmasking of the first word is wrong due to the fact that the word prepare is more frequent in the text."
      ]
    },
    {
      "cell_type": "code",
      "metadata": {
        "id": "II6dYv0NsLjG",
        "outputId": "856f2ae3-a310-4c23-a0e0-4f477cbf9621"
      },
      "source": [
        "t.longest_prefix('p#e#a#e'), t.longest_prefix('i#')"
      ],
      "execution_count": null,
      "outputs": [
        {
          "output_type": "execute_result",
          "data": {
            "text/plain": [
              "(('p#e#a#e': {'peerage': 1, 'preface': 3, 'prepare': 7}),\n",
              " ('i#': {'it': 6454, 'in': 6435, 'if': 1042, 'is': 3745, 'ii': 19, 'iv': 7, 'ix': 2}))"
            ]
          },
          "metadata": {
            "tags": []
          },
          "execution_count": 36
        }
      ]
    },
    {
      "cell_type": "markdown",
      "metadata": {
        "id": "sSayi__GsLjG"
      },
      "source": [
        "Score has been improved."
      ]
    },
    {
      "cell_type": "code",
      "metadata": {
        "id": "6UZtjcWksLjG",
        "outputId": "2dedacc3-c150-467a-fd11-c03f22ebc1c1"
      },
      "source": [
        "score(validation_tokens, prediction_tokens, character_based=True), score(validation_tokens, prediction_tokens, character_based=False)"
      ],
      "execution_count": null,
      "outputs": [
        {
          "output_type": "execute_result",
          "data": {
            "text/plain": [
              "(0.8623553640625423, 0.8105053191489362)"
            ]
          },
          "metadata": {
            "tags": []
          },
          "execution_count": 39
        }
      ]
    },
    {
      "cell_type": "markdown",
      "metadata": {
        "id": "PUtfxJtYsLjH"
      },
      "source": [
        "Let's apply it on the corrupted text."
      ]
    },
    {
      "cell_type": "code",
      "metadata": {
        "id": "ulCcdBRPsLjH",
        "outputId": "3091faaa-3e27-43b3-e982-4bde516354b1"
      },
      "source": [
        "recovered_tokens = []\n",
        "for i in CORRUPTED_TOKENS:\n",
        "    if t.longest_prefix(i).key is not None:\n",
        "        recovered_tokens.append(list({k: v for k, v in sorted(t.longest_prefix(i).value.items(), key=lambda item: item[1], reverse=True)})[0])\n",
        "    else:\n",
        "        print(\"OOV: \"+i)\n",
        "        recovered_tokens.append(i)"
      ],
      "execution_count": null,
      "outputs": [
        {
          "output_type": "stream",
          "text": [
            "OOV: z#r#\n",
            "OOV: z#l#s\n",
            "OOV: z#l#s\n",
            "OOV: z#l#s\n",
            "OOV: z#l#\n",
            "OOV: z#g\n",
            "OOV: z#g\n",
            "OOV: z#m#e#i\n"
          ],
          "name": "stdout"
        }
      ]
    },
    {
      "cell_type": "markdown",
      "metadata": {
        "id": "r2u8Ge9nsLjH"
      },
      "source": [
        "Looks good"
      ]
    },
    {
      "cell_type": "code",
      "metadata": {
        "id": "IF1eK7lxsLjH",
        "outputId": "16fb6b31-81ba-4ff0-e6e4-8e6f74150f58"
      },
      "source": [
        "' '.join(recovered_tokens)[:2000]"
      ],
      "execution_count": null,
      "outputs": [
        {
          "output_type": "execute_result",
          "data": {
            "text/plain": [
              "\"that note recalls as experience the passengers were sent for to come up it the bow and she a find sight it was very dark one could not fellow with the eye the surface of the sea more that fifty yards it any direction it damned away and became last to sight as about that distance from up but it you patiently gazed into the darkness a little while there was a sort reward for you presently a quarter of a mile away you would she a building solos of explosion of light of the water a flash so sudden and so astonishing brilliant that it would make you catch your breath they that book of light would instantly extent itself and take the corkscrew state and imposing length of the f sea serpent with every curve of its body and the break spreading away from its head and the wake following behind its this clothed it a french splendor of living fire and my but it was coming as a lightning gain almost before you could think this monster of light fifty feet long would go flaying and shopman by and suddenly disappear and out it the distance whence he come you would she another flash and another and another and another and she they turn into sea serpent of the instant and once sixteen flashed up as the some time and come tearing towards up a swarm of wage corner a moving conflagration a vision of bewildering beauty a spectacle of fire and energy whole equal the most of those people will not she again until after they are dead it was persons persons allow with prompt light they presently collected it a will and magnificent jumble under the bows and there they places for as hour leaving and from and carrying of turning som'ers it front of the seen of across it and never getting hat never making a mishap though the seen master they only about as inch as a rule they were persons of the ordinary length eight of ten feet but every taint of their bodies sent a long procession of united and growing corner astern that fiery jumble was as enchanting thing to look as and we states out the perfo\""
            ]
          },
          "metadata": {
            "tags": []
          },
          "execution_count": 41
        }
      ]
    },
    {
      "cell_type": "markdown",
      "metadata": {
        "id": "ELlU5QuXsLjH"
      },
      "source": [
        "Let's take the full training data for buliding the trie then we're done."
      ]
    },
    {
      "cell_type": "code",
      "metadata": {
        "id": "eDZrVLqasLjI",
        "outputId": "624652eb-c21e-4a37-86a8-1312533f4715"
      },
      "source": [
        "t = build_trie(token_list=TRAINING_TOKENS)\n",
        "\n",
        "recovered_tokens = []\n",
        "for i in CORRUPTED_TOKENS:\n",
        "    if t.longest_prefix(i).key is not None:\n",
        "        recovered_tokens.append(list({k: v for k, v in sorted(t.longest_prefix(i).value.items(), key=lambda item: item[1], reverse=True)})[0])\n",
        "    else:\n",
        "        print(\"OOV: \"+i)\n",
        "        recovered_tokens.append(i)\n",
        "\n",
        "with open('recovered_tokens.txt', 'w') as f:\n",
        "    f.writelines([\"%s\\n\" % item  for item in recovered_tokens])"
      ],
      "execution_count": null,
      "outputs": [
        {
          "output_type": "stream",
          "text": [
            "OOV: z#r#\n",
            "OOV: z#l#s\n",
            "OOV: z#l#s\n",
            "OOV: z#l#s\n",
            "OOV: z#l#\n",
            "OOV: z#g\n",
            "OOV: z#g\n",
            "OOV: z#m#e#i\n"
          ],
          "name": "stdout"
        }
      ]
    },
    {
      "cell_type": "code",
      "metadata": {
        "id": "XNt4STwZsLjI"
      },
      "source": [
        ""
      ],
      "execution_count": null,
      "outputs": []
    }
  ]
}